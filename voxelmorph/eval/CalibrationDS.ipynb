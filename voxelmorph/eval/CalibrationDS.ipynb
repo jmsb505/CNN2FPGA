{
 "cells": [
  {
   "cell_type": "code",
   "execution_count": 8,
   "id": "8dc75ea8",
   "metadata": {},
   "outputs": [],
   "source": [
    "import os\n",
    "import numpy as np\n",
    "import imageio\n",
    "import cv2\n",
    "from scipy.ndimage import zoom\n",
    "\n",
    "BASE_DIR = \"/home/j/FPGA-project/voxelmorph/data/image slice-T1\"        \n",
    "OUTPUT_DIR = \"/home/j/FPGA-project/tools/calibration_dataset\"  \n",
    "TARGET_SHAPE = (160, 192, 224)\n",
    "\n",
    "os.makedirs(OUTPUT_DIR, exist_ok=True)"
   ]
  },
  {
   "cell_type": "code",
   "execution_count": 9,
   "id": "d0237f02",
   "metadata": {},
   "outputs": [],
   "source": [
    "def resize_volume(vol, target_shape):\n",
    "    z, y, x = vol.shape\n",
    "    tz, ty, tx = target_shape\n",
    "\n",
    "    resized_slices = [\n",
    "        cv2.resize(vol[i], (tx, ty), interpolation=cv2.INTER_LINEAR)\n",
    "        for i in range(z)\n",
    "    ]\n",
    "    stack = np.stack(resized_slices, axis=0)\n",
    "\n",
    "    if z != tz:\n",
    "        zoom_factor = (tz / z, 1.0, 1.0)\n",
    "        stack = zoom(stack, zoom_factor, order=1)\n",
    "\n",
    "    return stack\n"
   ]
  },
  {
   "cell_type": "code",
   "execution_count": 10,
   "id": "54dc0583",
   "metadata": {},
   "outputs": [],
   "source": [
    "def load_png_volume(folder_path, target_shape):\n",
    "    png_files = sorted([\n",
    "        f for f in os.listdir(folder_path)\n",
    "        if f.lower().endswith(\".png\")\n",
    "    ])\n",
    "    if len(png_files) == 0:\n",
    "        return None\n",
    "\n",
    "    slices = [imageio.imread(os.path.join(folder_path, f)) for f in png_files]\n",
    "    volume = np.stack(slices, axis=0).astype(np.float32)\n",
    "\n",
    "    volume = (volume - volume.min()) / (volume.max() - volume.min() + 1e-5)\n",
    "\n",
    "    return resize_volume(volume, target_shape)\n"
   ]
  },
  {
   "cell_type": "code",
   "execution_count": 11,
   "id": "a9fe71fe",
   "metadata": {},
   "outputs": [
    {
     "name": "stderr",
     "output_type": "stream",
     "text": [
      "/tmp/ipykernel_97729/1078799286.py:9: DeprecationWarning: Starting with ImageIO v3 the behavior of this function will switch to that of iio.v3.imread. To keep the current behavior (and make this warning disappear) use `import imageio.v2 as imageio` or call `imageio.v2.imread` directly.\n",
      "  slices = [imageio.imread(os.path.join(folder_path, f)) for f in png_files]\n"
     ]
    },
    {
     "name": "stdout",
     "output_type": "stream",
     "text": [
      "Saved: /home/j/FPGA-project/tools/calibration_dataset/calib_pair_0.npy\n",
      "Saved: /home/j/FPGA-project/tools/calibration_dataset/calib_pair_1.npy\n",
      "Saved: /home/j/FPGA-project/tools/calibration_dataset/calib_pair_2.npy\n",
      "Saved: /home/j/FPGA-project/tools/calibration_dataset/calib_pair_3.npy\n",
      "Saved: /home/j/FPGA-project/tools/calibration_dataset/calib_pair_4.npy\n",
      "Saved: /home/j/FPGA-project/tools/calibration_dataset/calib_pair_5.npy\n",
      "Saved: /home/j/FPGA-project/tools/calibration_dataset/calib_pair_6.npy\n",
      "Saved: /home/j/FPGA-project/tools/calibration_dataset/calib_pair_7.npy\n",
      "Saved: /home/j/FPGA-project/tools/calibration_dataset/calib_pair_8.npy\n",
      "Saved: /home/j/FPGA-project/tools/calibration_dataset/calib_pair_9.npy\n",
      "Saved: /home/j/FPGA-project/tools/calibration_dataset/calib_pair_10.npy\n",
      "Saved: /home/j/FPGA-project/tools/calibration_dataset/calib_pair_11.npy\n",
      "Saved: /home/j/FPGA-project/tools/calibration_dataset/calib_pair_12.npy\n",
      "Saved: /home/j/FPGA-project/tools/calibration_dataset/calib_pair_13.npy\n",
      "Saved: /home/j/FPGA-project/tools/calibration_dataset/calib_pair_14.npy\n",
      "Saved: /home/j/FPGA-project/tools/calibration_dataset/calib_pair_15.npy\n",
      "Saved: /home/j/FPGA-project/tools/calibration_dataset/calib_pair_16.npy\n",
      "Saved: /home/j/FPGA-project/tools/calibration_dataset/calib_pair_17.npy\n",
      "Saved: /home/j/FPGA-project/tools/calibration_dataset/calib_pair_18.npy\n",
      "Saved: /home/j/FPGA-project/tools/calibration_dataset/calib_pair_19.npy\n",
      "20 calibration pairs created.\n"
     ]
    }
   ],
   "source": [
    "created = 0\n",
    "rng = np.random.RandomState(42)\n",
    "\n",
    "for subject in sorted(os.listdir(BASE_DIR)):\n",
    "    subject_path = os.path.join(BASE_DIR, subject)\n",
    "    if not os.path.isdir(subject_path):\n",
    "        continue\n",
    "\n",
    "    pngs = [f for f in os.listdir(subject_path) if f.lower().endswith('.png')]\n",
    "    if len(pngs) == 0:\n",
    "        print(f\"No PNGs in {subject_path}\")\n",
    "        continue\n",
    "\n",
    "    vol = load_png_volume(subject_path, TARGET_SHAPE)\n",
    "    if vol is None:\n",
    "        print(f\"Failed to load volume from {subject_path}\")\n",
    "        continue\n",
    "\n",
    "    moving = np.clip(vol + rng.normal(0, 0.05, vol.shape), 0, 1)\n",
    "    fixed = vol\n",
    "    pair = np.stack([moving, fixed], axis=0)  \n",
    "\n",
    "    out_path = os.path.join(OUTPUT_DIR, f\"calib_pair_{created}.npy\")\n",
    "    np.save(out_path, pair)\n",
    "\n",
    "    print(f\"Saved: {out_path}\")\n",
    "    created += 1\n",
    "\n",
    "    if created >= 20:\n",
    "        print(\"20 calibration pairs created.\")\n",
    "        break\n",
    "\n"
   ]
  }
 ],
 "metadata": {
  "kernelspec": {
   "display_name": "gen",
   "language": "python",
   "name": "python3"
  },
  "language_info": {
   "codemirror_mode": {
    "name": "ipython",
    "version": 3
   },
   "file_extension": ".py",
   "mimetype": "text/x-python",
   "name": "python",
   "nbconvert_exporter": "python",
   "pygments_lexer": "ipython3",
   "version": "3.10.13"
  }
 },
 "nbformat": 4,
 "nbformat_minor": 5
}
